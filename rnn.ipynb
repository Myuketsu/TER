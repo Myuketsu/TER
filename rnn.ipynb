{
 "cells": [
  {
   "cell_type": "code",
   "execution_count": null,
   "metadata": {},
   "outputs": [],
   "source": [
    "import pandas as pd\n",
    "import numpy as np\n",
    "\n",
    "from keras._tf_keras.keras.layers import Dense, LSTM, Input, Bidirectional, GRU, Dropout\n",
    "from keras._tf_keras.keras.models import Model, Sequential, load_model\n",
    "from keras._tf_keras.keras.optimizers import Adam, RMSprop, Adagrad\n",
    "from keras._tf_keras.keras.callbacks import EarlyStopping, LearningRateScheduler\n",
    "\n",
    "from tqdm import tqdm\n",
    "\n",
    "from data.city.load_cities import CITY\n",
    "\n",
    "from sklearn.model_selection import train_test_split\n",
    "\n",
    "import plotly.express as px"
   ]
  },
  {
   "cell_type": "code",
   "execution_count": null,
   "metadata": {},
   "outputs": [],
   "source": [
    "TRAIN_SIZE = 0.7\n",
    "VALIDATION_SIZE = 0.2\n",
    "TEST_SIZE = 0.1\n",
    "\n",
    "df_dataset = CITY.df_hours.copy()\n",
    "df_dataset = df_dataset.set_index('date')"
   ]
  },
  {
   "cell_type": "code",
   "execution_count": null,
   "metadata": {},
   "outputs": [],
   "source": [
    "target_station = '00001-poids-de-lhuile' # Base\n",
    "target_station = '00076-republique-pl-olivier' # Good\n",
    "# target_station = '00218-amouroux-ste-augustine' # À chier\n",
    "# target_station = '00256-place-de-la-rontonde' # Normal\n",
    "data_station = df_dataset[target_station]\n",
    "\n",
    "prediction_length = 24 * 7\n",
    "context_length = 24 * 30"
   ]
  },
  {
   "cell_type": "code",
   "execution_count": null,
   "metadata": {},
   "outputs": [],
   "source": [
    "# With features\n",
    "# data_station = df_dataset.copy()\n",
    "data_station = df_dataset[[target_station, 'date']].copy()\n",
    "data_station.loc[:, 'hour'] = data_station['date'].dt.hour\n",
    "data_station.loc[:, 'day_of_week'] = data_station['date'].dt.dayofweek\n",
    "data_station.loc[:, 'is_weekend'] = (data_station['date'].dt.dayofweek >= 5).astype('int8')\n",
    "data_station.loc[:, 'day_of_month'] = data_station['date'].dt.day\n",
    "data_station = data_station.drop('date', axis='columns')\n",
    "\n",
    "X = []; y = []\n",
    "for i in range(0, len(data_station) - context_length - prediction_length):\n",
    "    X.append(data_station.iloc[i:i + context_length].to_numpy())\n",
    "    y.append(data_station.iloc[i + context_length: i + context_length + prediction_length][target_station].to_numpy())\n",
    "X = np.array(X)\n",
    "y = np.array(y)\n",
    "\n",
    "# X = []; y = []\n",
    "# time_features_columns = ['hour', 'day_of_week', 'is_weekend', 'day_of_month']\n",
    "# for i in tqdm(range(0, len(data_station) - context_length - prediction_length)):\n",
    "#         X.append(data_station.iloc[i:i + context_length].to_numpy())\n",
    "#         y.append(data_station.iloc[i + context_length: i + context_length + prediction_length][data_station.columns.difference(time_features_columns)].to_numpy())\n",
    "# X = np.array(X)\n",
    "# y = np.array(y)"
   ]
  },
  {
   "cell_type": "code",
   "execution_count": null,
   "metadata": {},
   "outputs": [],
   "source": [
    "X = []; y = []\n",
    "for i in range(0, len(data_station) - context_length - prediction_length):\n",
    "    X.append(data_station.iloc[i:i + context_length].reset_index(drop=True))\n",
    "    y.append(data_station.iloc[i + context_length: i + context_length + prediction_length].reset_index(drop=True))\n",
    "X = pd.DataFrame(X).reset_index(drop=True).to_numpy().reshape((-1, 1, context_length))\n",
    "y = pd.DataFrame(y).reset_index(drop=True).to_numpy().reshape((-1, 1, prediction_length))"
   ]
  },
  {
   "cell_type": "code",
   "execution_count": null,
   "metadata": {},
   "outputs": [],
   "source": [
    "X_train, X_test, y_train, y_test = train_test_split(X, y, test_size=(1 - TRAIN_SIZE), shuffle=False)\n",
    "X_valid, X_test, y_valid, y_test = train_test_split(X_test, y_test, test_size=(TEST_SIZE / (TEST_SIZE + VALIDATION_SIZE)), shuffle=False)\n",
    "\n",
    "print('X_train :', X_train.shape, '| X_valid :', X_valid.shape, '| X_test :', X_test.shape)\n",
    "print('y_train :', y_train.shape, '| y_valid :', y_valid.shape, '| y_test :', y_test.shape)"
   ]
  },
  {
   "cell_type": "code",
   "execution_count": null,
   "metadata": {},
   "outputs": [],
   "source": [
    "model: Model = Sequential([\n",
    "    Input(shape=X_train.shape[1:]),\n",
    "    Bidirectional(LSTM(units=256, return_sequences=True, activation='selu', recurrent_activation='selu')),\n",
    "    Dropout(rate=0.35),\n",
    "    Bidirectional(LSTM(units=256, return_sequences=True, activation='selu', recurrent_activation='selu')),\n",
    "    Dropout(rate=0.35),\n",
    "    Bidirectional(LSTM(units=256, return_sequences=True, activation='selu', recurrent_activation='selu')),\n",
    "    Dropout(rate=0.35),\n",
    "    Dense(units=prediction_length, activation='sigmoid')\n",
    "],\n",
    "name='bike_station_model_LSTM')"
   ]
  },
  {
   "cell_type": "code",
   "execution_count": null,
   "metadata": {},
   "outputs": [],
   "source": [
    "model.compile(\n",
    "    optimizer=Adam(),\n",
    "    loss='mse',\n",
    "    metrics=['mae'],\n",
    ")\n",
    "model.summary()"
   ]
  },
  {
   "cell_type": "code",
   "execution_count": null,
   "metadata": {},
   "outputs": [],
   "source": [
    "history = model.fit(\n",
    "    x=X_train,\n",
    "    y=y_train,\n",
    "    epochs=256,\n",
    "    batch_size=64,\n",
    "    verbose=1,\n",
    "    validation_data=(X_valid, y_valid),\n",
    "    callbacks=[\n",
    "        EarlyStopping(\n",
    "            monitor='val_loss',\n",
    "            patience=16,\n",
    "            verbose=1,\n",
    "            start_from_epoch=4,\n",
    "            restore_best_weights=True\n",
    "        )\n",
    "    ]\n",
    ")"
   ]
  },
  {
   "cell_type": "code",
   "execution_count": null,
   "metadata": {},
   "outputs": [],
   "source": [
    "# model.save(\"my_model.keras\")"
   ]
  },
  {
   "cell_type": "code",
   "execution_count": null,
   "metadata": {},
   "outputs": [],
   "source": [
    "test_index = 0\n",
    "\n",
    "predict = model.predict(X_test)[test_index, 0].flatten()\n",
    "reality = y_test[test_index, 0].flatten()\n",
    "\n",
    "length_df = X_test.shape[2] + y_test.shape[2]\n",
    "df = pd.DataFrame(\n",
    "    np.zeros((length_df, 2)) * np.nan,\n",
    "    columns=['reality', 'prediction']\n",
    ")\n",
    "df.loc[:, 'reality'] = np.concatenate([X_test[test_index, 0].flatten(), reality])\n",
    "df.loc[X_test.shape[2]:, 'prediction'] = predict\n",
    "df.index = pd.date_range('1/1/2024', periods=length_df, freq='1h')\n",
    "px.line(df)"
   ]
  }
 ],
 "metadata": {
  "kernelspec": {
   "display_name": "Python 3 (ipykernel)",
   "language": "python",
   "name": "python3"
  },
  "language_info": {
   "codemirror_mode": {
    "name": "ipython",
    "version": 3
   },
   "file_extension": ".py",
   "mimetype": "text/x-python",
   "name": "python",
   "nbconvert_exporter": "python",
   "pygments_lexer": "ipython3",
   "version": "3.12.2"
  }
 },
 "nbformat": 4,
 "nbformat_minor": 2
}
